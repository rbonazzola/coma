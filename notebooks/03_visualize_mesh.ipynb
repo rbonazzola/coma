{
 "cells": [
  {
   "cell_type": "code",
   "execution_count": 1,
   "metadata": {},
   "outputs": [],
   "source": [
    "# import vtkplotter\n",
    "import os; os.chdir(\"/home/rodrigo/coma/\")\n",
    "from cardiac_mesh import CardiacMesh\n",
    "from VTK.VTKMesh import VTKObject as Mesh\n",
    "import vtk\n",
    "from itkwidgets import view\n",
    "import itk\n",
    "import numpy as np\n",
    "import helpers\n",
    "from copy import deepcopy"
   ]
  },
  {
   "cell_type": "code",
   "execution_count": 2,
   "metadata": {},
   "outputs": [],
   "source": [
    "# subparts_ids = CardiacMesh.subparts_ids\n",
    "# \n",
    "# lv_m = Mesh(filename=\"data/vtk_meshes/1000336/output.001.vtk\")\n",
    "# lv_m_endo = lv_m.extractSubpart(subparts_ids[\"LV_endo\"])\n",
    "# lv_m_epi = lv_m.extractSubpart(subparts_ids[\"LV_epi\"])\n",
    "# \n",
    "# lv_m_endo = vtkplotter.mesh.Mesh([lv_m_endo.points, lv_m_endo.triangles])\n",
    "# lv_m_epi = vtkplotter.mesh.Mesh([lv_m_epi.points, lv_m_epi.triangles])\n",
    "# \n",
    "# pp = vtkplotter.mesh.merge([lv_m_endo, lv_m_epi])\n",
    "# # vtkplotter.mesh.Mesh()"
   ]
  },
  {
   "cell_type": "code",
   "execution_count": 3,
   "metadata": {},
   "outputs": [
    {
     "data": {
      "text/plain": [
       "(vtkCommonDataModelPython.vtkPolyData)0x7ffb2d78c6e0"
      ]
     },
     "execution_count": 3,
     "metadata": {},
     "output_type": "execute_result"
    }
   ],
   "source": [
    "file_name = \"/home/rodrigo/data/meshes/vtk_meshes/1000336/output.001.vtk\"\n",
    "# itk.meshread(file_name)\n",
    "\n",
    "reader = vtk.vtkPolyDataReader()\n",
    "reader.SetFileName(file_name)\n",
    "reader.Update()\n",
    "mesh = reader.GetOutput()\n",
    "mesh"
   ]
  },
  {
   "cell_type": "code",
   "execution_count": 4,
   "metadata": {},
   "outputs": [],
   "source": [
    "viewer = view(geometries=mesh)"
   ]
  },
  {
   "cell_type": "code",
   "execution_count": 5,
   "metadata": {},
   "outputs": [],
   "source": [
    "# 1. Select model\n",
    "##   a. Read all the data for the chamber (do once)\n",
    "##   b. Read the latent space representation for each subject.\n",
    "\n",
    "# 2. Calculate E(mean shape). Is it close to mean(z) or median(z)?\n",
    "# 3. Display.\n",
    "# 4. Create widget for each of the latent variables (start with nz = 4). Need to convert from N(0,1) to real range.\n",
    "# 5. Calculate shape as D(E(mean shape) + z)\n",
    "# 6. Display\n",
    "# 7. Interpret"
   ]
  },
  {
   "cell_type": "code",
   "execution_count": 6,
   "metadata": {},
   "outputs": [],
   "source": [
    "# Select model\n",
    "import os\n",
    "import ipywidgets as widgets\n",
    "import pandas as pd"
   ]
  },
  {
   "cell_type": "code",
   "execution_count": 7,
   "metadata": {},
   "outputs": [],
   "source": [
    "run_ids = [\n",
    "    \"2020-04-24_11_03_10_723719\",\n",
    "    \"2020-04-26_07_36_30_873605\",\n",
    "    \"2020-04-24_13_19_26_631106\",\n",
    "    \"2020-04-19_10_01_33_510833\",\n",
    "    \"2020-04-30_17_29_19_775837\",\n",
    "    \"2020-04-19_03_11_19_339030\"     \n",
    "]\n",
    "\n",
    "run_params_df = pd.read_csv(\"/home/rodrigo/data/coma/run_parameters.csv\")"
   ]
  },
  {
   "cell_type": "code",
   "execution_count": 8,
   "metadata": {},
   "outputs": [
    {
     "data": {
      "application/vnd.jupyter.widget-view+json": {
       "model_id": "e2cd042ef3b9477dad0e48f6834855bd",
       "version_major": 2,
       "version_minor": 0
      },
      "text/plain": [
       "Select(description='Run ID', index=1, options=('2020-04-24_11_03_10_723719', '2020-04-26_07_36_30_873605', '20…"
      ]
     },
     "metadata": {},
     "output_type": "display_data"
    }
   ],
   "source": [
    "coma_dir = \"/home/rodrigo/data/coma/\"\n",
    "\n",
    "# yaml_files = [x for x in os.listdir(coma_yml_dir) if x.endswith(\".yaml\") and x.startswith(\"config\")] \n",
    "\n",
    "w_yaml = widgets.Select(\n",
    "    options=run_ids,\n",
    "    description='Run ID',\n",
    "    disabled=False,\n",
    "    value=run_ids[1]\n",
    ")\n",
    "\n",
    "display(w_yaml)"
   ]
  },
  {
   "cell_type": "code",
   "execution_count": 9,
   "metadata": {},
   "outputs": [
    {
     "data": {
      "text/html": [
       "<div>\n",
       "<style scoped>\n",
       "    .dataframe tbody tr th:only-of-type {\n",
       "        vertical-align: middle;\n",
       "    }\n",
       "\n",
       "    .dataframe tbody tr th {\n",
       "        vertical-align: top;\n",
       "    }\n",
       "\n",
       "    .dataframe thead th {\n",
       "        text-align: right;\n",
       "    }\n",
       "</style>\n",
       "<table border=\"1\" class=\"dataframe\">\n",
       "  <thead>\n",
       "    <tr style=\"text-align: right;\">\n",
       "      <th></th>\n",
       "      <th>IID</th>\n",
       "      <th>z0</th>\n",
       "      <th>z1</th>\n",
       "      <th>z2</th>\n",
       "      <th>z3</th>\n",
       "      <th>z4</th>\n",
       "      <th>z5</th>\n",
       "      <th>z6</th>\n",
       "      <th>z7</th>\n",
       "    </tr>\n",
       "  </thead>\n",
       "  <tbody>\n",
       "    <tr>\n",
       "      <td>0</td>\n",
       "      <td>1570605</td>\n",
       "      <td>2.825902</td>\n",
       "      <td>0.957992</td>\n",
       "      <td>1.222098</td>\n",
       "      <td>0.668068</td>\n",
       "      <td>0.709182</td>\n",
       "      <td>1.231680</td>\n",
       "      <td>2.354997</td>\n",
       "      <td>2.908077</td>\n",
       "    </tr>\n",
       "    <tr>\n",
       "      <td>1</td>\n",
       "      <td>2668996</td>\n",
       "      <td>2.471598</td>\n",
       "      <td>0.556384</td>\n",
       "      <td>1.251446</td>\n",
       "      <td>2.138906</td>\n",
       "      <td>0.085583</td>\n",
       "      <td>1.010262</td>\n",
       "      <td>2.228560</td>\n",
       "      <td>1.665214</td>\n",
       "    </tr>\n",
       "    <tr>\n",
       "      <td>2</td>\n",
       "      <td>4955468</td>\n",
       "      <td>5.064141</td>\n",
       "      <td>1.130684</td>\n",
       "      <td>1.546261</td>\n",
       "      <td>4.802496</td>\n",
       "      <td>1.178130</td>\n",
       "      <td>1.482038</td>\n",
       "      <td>0.668046</td>\n",
       "      <td>3.425075</td>\n",
       "    </tr>\n",
       "    <tr>\n",
       "      <td>3</td>\n",
       "      <td>2204197</td>\n",
       "      <td>1.363136</td>\n",
       "      <td>1.549165</td>\n",
       "      <td>1.704567</td>\n",
       "      <td>0.916512</td>\n",
       "      <td>1.444205</td>\n",
       "      <td>0.350419</td>\n",
       "      <td>0.954807</td>\n",
       "      <td>0.539090</td>\n",
       "    </tr>\n",
       "    <tr>\n",
       "      <td>4</td>\n",
       "      <td>4001956</td>\n",
       "      <td>3.826706</td>\n",
       "      <td>2.655343</td>\n",
       "      <td>1.473090</td>\n",
       "      <td>1.674106</td>\n",
       "      <td>1.965158</td>\n",
       "      <td>0.541356</td>\n",
       "      <td>1.706236</td>\n",
       "      <td>2.080317</td>\n",
       "    </tr>\n",
       "    <tr>\n",
       "      <td>...</td>\n",
       "      <td>...</td>\n",
       "      <td>...</td>\n",
       "      <td>...</td>\n",
       "      <td>...</td>\n",
       "      <td>...</td>\n",
       "      <td>...</td>\n",
       "      <td>...</td>\n",
       "      <td>...</td>\n",
       "      <td>...</td>\n",
       "    </tr>\n",
       "    <tr>\n",
       "      <td>32642</td>\n",
       "      <td>3656396</td>\n",
       "      <td>1.747288</td>\n",
       "      <td>1.153776</td>\n",
       "      <td>2.255631</td>\n",
       "      <td>2.412309</td>\n",
       "      <td>0.000000</td>\n",
       "      <td>1.227084</td>\n",
       "      <td>1.867244</td>\n",
       "      <td>0.853023</td>\n",
       "    </tr>\n",
       "    <tr>\n",
       "      <td>32643</td>\n",
       "      <td>4517527</td>\n",
       "      <td>1.736183</td>\n",
       "      <td>2.125741</td>\n",
       "      <td>2.878968</td>\n",
       "      <td>1.895521</td>\n",
       "      <td>2.224888</td>\n",
       "      <td>2.249910</td>\n",
       "      <td>2.128539</td>\n",
       "      <td>1.111528</td>\n",
       "    </tr>\n",
       "    <tr>\n",
       "      <td>32644</td>\n",
       "      <td>5393075</td>\n",
       "      <td>1.408455</td>\n",
       "      <td>2.954007</td>\n",
       "      <td>2.503598</td>\n",
       "      <td>2.298673</td>\n",
       "      <td>2.975187</td>\n",
       "      <td>0.432752</td>\n",
       "      <td>1.915178</td>\n",
       "      <td>0.991170</td>\n",
       "    </tr>\n",
       "    <tr>\n",
       "      <td>32645</td>\n",
       "      <td>4341186</td>\n",
       "      <td>1.314035</td>\n",
       "      <td>1.070560</td>\n",
       "      <td>2.353150</td>\n",
       "      <td>2.083709</td>\n",
       "      <td>1.472745</td>\n",
       "      <td>1.718895</td>\n",
       "      <td>1.459728</td>\n",
       "      <td>1.159131</td>\n",
       "    </tr>\n",
       "    <tr>\n",
       "      <td>32646</td>\n",
       "      <td>3479115</td>\n",
       "      <td>3.390098</td>\n",
       "      <td>1.074687</td>\n",
       "      <td>2.894191</td>\n",
       "      <td>0.000000</td>\n",
       "      <td>1.529601</td>\n",
       "      <td>3.116520</td>\n",
       "      <td>2.083537</td>\n",
       "      <td>2.487580</td>\n",
       "    </tr>\n",
       "  </tbody>\n",
       "</table>\n",
       "<p>32647 rows × 9 columns</p>\n",
       "</div>"
      ],
      "text/plain": [
       "           IID        z0        z1        z2        z3        z4        z5  \\\n",
       "0      1570605  2.825902  0.957992  1.222098  0.668068  0.709182  1.231680   \n",
       "1      2668996  2.471598  0.556384  1.251446  2.138906  0.085583  1.010262   \n",
       "2      4955468  5.064141  1.130684  1.546261  4.802496  1.178130  1.482038   \n",
       "3      2204197  1.363136  1.549165  1.704567  0.916512  1.444205  0.350419   \n",
       "4      4001956  3.826706  2.655343  1.473090  1.674106  1.965158  0.541356   \n",
       "...        ...       ...       ...       ...       ...       ...       ...   \n",
       "32642  3656396  1.747288  1.153776  2.255631  2.412309  0.000000  1.227084   \n",
       "32643  4517527  1.736183  2.125741  2.878968  1.895521  2.224888  2.249910   \n",
       "32644  5393075  1.408455  2.954007  2.503598  2.298673  2.975187  0.432752   \n",
       "32645  4341186  1.314035  1.070560  2.353150  2.083709  1.472745  1.718895   \n",
       "32646  3479115  3.390098  1.074687  2.894191  0.000000  1.529601  3.116520   \n",
       "\n",
       "             z6        z7  \n",
       "0      2.354997  2.908077  \n",
       "1      2.228560  1.665214  \n",
       "2      0.668046  3.425075  \n",
       "3      0.954807  0.539090  \n",
       "4      1.706236  2.080317  \n",
       "...         ...       ...  \n",
       "32642  1.867244  0.853023  \n",
       "32643  2.128539  1.111528  \n",
       "32644  1.915178  0.991170  \n",
       "32645  1.459728  1.159131  \n",
       "32646  2.083537  2.487580  \n",
       "\n",
       "[32647 rows x 9 columns]"
      ]
     },
     "execution_count": 9,
     "metadata": {},
     "output_type": "execute_result"
    }
   ],
   "source": [
    "run_info = helpers.Run(w_yaml.value, \"/home/rodrigo/data/coma/\")\n",
    "ls = run_info.latent_space\n",
    "df = pd.read_csv(ls)\n",
    "df"
   ]
  },
  {
   "cell_type": "code",
   "execution_count": 14,
   "metadata": {},
   "outputs": [
    {
     "ename": "ModuleNotFoundError",
     "evalue": "No module named 'psbody'",
     "output_type": "error",
     "traceback": [
      "\u001b[0;31m---------------------------------------------------------------------------\u001b[0m",
      "\u001b[0;31mModuleNotFoundError\u001b[0m                       Traceback (most recent call last)",
      "\u001b[0;32m<ipython-input-14-8b023420be95>\u001b[0m in \u001b[0;36m<module>\u001b[0;34m\u001b[0m\n\u001b[0;32m----> 1\u001b[0;31m \u001b[0;32mfrom\u001b[0m \u001b[0mmain\u001b[0m \u001b[0;32mimport\u001b[0m \u001b[0mgenerate_model\u001b[0m\u001b[0;34m\u001b[0m\u001b[0;34m\u001b[0m\u001b[0m\n\u001b[0m",
      "\u001b[0;32m~/Leeds/doctorado/repos/coma/main.py\u001b[0m in \u001b[0;36m<module>\u001b[0;34m\u001b[0m\n\u001b[1;32m      1\u001b[0m \u001b[0;32mfrom\u001b[0m \u001b[0m__future__\u001b[0m \u001b[0;32mimport\u001b[0m \u001b[0mprint_function\u001b[0m\u001b[0;34m\u001b[0m\u001b[0;34m\u001b[0m\u001b[0m\n\u001b[0;32m----> 2\u001b[0;31m \u001b[0;32mfrom\u001b[0m \u001b[0mlib\u001b[0m \u001b[0;32mimport\u001b[0m \u001b[0mmodels\u001b[0m\u001b[0;34m,\u001b[0m \u001b[0mgraph\u001b[0m\u001b[0;34m,\u001b[0m \u001b[0mcoarsening\u001b[0m\u001b[0;34m,\u001b[0m \u001b[0mutils\u001b[0m\u001b[0;34m,\u001b[0m \u001b[0mmesh_sampling\u001b[0m\u001b[0;34m\u001b[0m\u001b[0;34m\u001b[0m\u001b[0m\n\u001b[0m\u001b[1;32m      3\u001b[0m \u001b[0;32mfrom\u001b[0m \u001b[0mlib\u001b[0m\u001b[0;34m.\u001b[0m\u001b[0mvisualize_latent_space\u001b[0m \u001b[0;32mimport\u001b[0m \u001b[0mvisualize_latent_space\u001b[0m\u001b[0;34m\u001b[0m\u001b[0;34m\u001b[0m\u001b[0m\n\u001b[1;32m      4\u001b[0m \u001b[0;32mimport\u001b[0m \u001b[0mnumpy\u001b[0m \u001b[0;32mas\u001b[0m \u001b[0mnp\u001b[0m\u001b[0;34m\u001b[0m\u001b[0;34m\u001b[0m\u001b[0m\n\u001b[1;32m      5\u001b[0m \u001b[0;32mimport\u001b[0m \u001b[0mjson\u001b[0m\u001b[0;34m\u001b[0m\u001b[0;34m\u001b[0m\u001b[0m\n",
      "\u001b[0;32m~/Leeds/doctorado/repos/coma/lib/mesh_sampling.py\u001b[0m in \u001b[0;36m<module>\u001b[0;34m\u001b[0m\n\u001b[1;32m      4\u001b[0m \u001b[0;32mimport\u001b[0m \u001b[0mos\u001b[0m\u001b[0;34m\u001b[0m\u001b[0;34m\u001b[0m\u001b[0m\n\u001b[1;32m      5\u001b[0m \u001b[0;32mimport\u001b[0m \u001b[0mscipy\u001b[0m\u001b[0;34m.\u001b[0m\u001b[0msparse\u001b[0m \u001b[0;32mas\u001b[0m \u001b[0msp\u001b[0m\u001b[0;34m\u001b[0m\u001b[0;34m\u001b[0m\u001b[0m\n\u001b[0;32m----> 6\u001b[0;31m \u001b[0;32mfrom\u001b[0m \u001b[0mpsbody\u001b[0m\u001b[0;34m.\u001b[0m\u001b[0mmesh\u001b[0m \u001b[0;32mimport\u001b[0m \u001b[0mMesh\u001b[0m\u001b[0;34m\u001b[0m\u001b[0;34m\u001b[0m\u001b[0m\n\u001b[0m\u001b[1;32m      7\u001b[0m \u001b[0;31m#from psbody.mesh.topology.decimation import vertex_quadrics\u001b[0m\u001b[0;34m\u001b[0m\u001b[0;34m\u001b[0m\u001b[0;34m\u001b[0m\u001b[0m\n\u001b[1;32m      8\u001b[0m \u001b[0;32mfrom\u001b[0m \u001b[0mopendr\u001b[0m\u001b[0;34m.\u001b[0m\u001b[0mtopology\u001b[0m \u001b[0;32mimport\u001b[0m \u001b[0mget_vert_connectivity\u001b[0m\u001b[0;34m,\u001b[0m \u001b[0mget_vertices_per_edge\u001b[0m\u001b[0;34m\u001b[0m\u001b[0;34m\u001b[0m\u001b[0m\n",
      "\u001b[0;31mModuleNotFoundError\u001b[0m: No module named 'psbody'"
     ]
    }
   ],
   "source": [
    "from main import generate_model"
   ]
  },
  {
   "cell_type": "code",
   "execution_count": 11,
   "metadata": {},
   "outputs": [
    {
     "ename": "NameError",
     "evalue": "name 'generate_model' is not defined",
     "output_type": "error",
     "traceback": [
      "\u001b[0;31m---------------------------------------------------------------------------\u001b[0m",
      "\u001b[0;31mNameError\u001b[0m                                 Traceback (most recent call last)",
      "\u001b[0;32m<ipython-input-11-38da57f49693>\u001b[0m in \u001b[0;36m<module>\u001b[0;34m\u001b[0m\n\u001b[1;32m      1\u001b[0m \u001b[0mparams\u001b[0m \u001b[0;34m=\u001b[0m \u001b[0mdeepcopy\u001b[0m\u001b[0;34m(\u001b[0m\u001b[0mrun_info\u001b[0m\u001b[0;34m.\u001b[0m\u001b[0mparams\u001b[0m\u001b[0;34m)\u001b[0m \u001b[0;31m# I need to deepcopy because I delete the 'seed' key\u001b[0m\u001b[0;34m\u001b[0m\u001b[0;34m\u001b[0m\u001b[0m\n\u001b[1;32m      2\u001b[0m \u001b[0;32mdel\u001b[0m \u001b[0mparams\u001b[0m\u001b[0;34m[\u001b[0m\u001b[0;34m'seed'\u001b[0m\u001b[0;34m]\u001b[0m\u001b[0;34m\u001b[0m\u001b[0;34m\u001b[0m\u001b[0m\n\u001b[0;32m----> 3\u001b[0;31m \u001b[0mmodel\u001b[0m \u001b[0;34m=\u001b[0m \u001b[0mgenerate_model\u001b[0m\u001b[0;34m(\u001b[0m\u001b[0mparams\u001b[0m\u001b[0;34m,\u001b[0m \u001b[0madd_hash\u001b[0m\u001b[0;34m=\u001b[0m\u001b[0;32mFalse\u001b[0m\u001b[0;34m)\u001b[0m\u001b[0;34m\u001b[0m\u001b[0;34m\u001b[0m\u001b[0m\n\u001b[0m",
      "\u001b[0;31mNameError\u001b[0m: name 'generate_model' is not defined"
     ]
    }
   ],
   "source": [
    "params = deepcopy(run_info.params) # I need to deepcopy because I delete the 'seed' key\n",
    "del params['seed']\n",
    "model = generate_model(params, add_hash=False)"
   ]
  },
  {
   "cell_type": "code",
   "execution_count": null,
   "metadata": {},
   "outputs": [],
   "source": []
  }
 ],
 "metadata": {
  "kernelspec": {
   "display_name": "Python 3",
   "language": "python",
   "name": "python3"
  },
  "language_info": {
   "codemirror_mode": {
    "name": "ipython",
    "version": 3
   },
   "file_extension": ".py",
   "mimetype": "text/x-python",
   "name": "python",
   "nbconvert_exporter": "python",
   "pygments_lexer": "ipython3",
   "version": "3.7.4"
  }
 },
 "nbformat": 4,
 "nbformat_minor": 2
}
