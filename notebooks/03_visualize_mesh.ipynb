{
 "cells": [
  {
   "cell_type": "code",
   "execution_count": 6,
   "metadata": {},
   "outputs": [
    {
     "ename": "NameError",
     "evalue": "name 'vtkplotter' is not defined",
     "output_type": "error",
     "traceback": [
      "\u001b[0;31m\u001b[0m",
      "\u001b[0;31mNameError\u001b[0mTraceback (most recent call last)",
      "\u001b[0;32m<ipython-input-6-fe6935c32cce>\u001b[0m in \u001b[0;36m<module>\u001b[0;34m()\u001b[0m\n\u001b[1;32m     17\u001b[0m \u001b[0mlv_m_epi\u001b[0m \u001b[0;34m=\u001b[0m \u001b[0mlv_m\u001b[0m\u001b[0;34m.\u001b[0m\u001b[0mextractSubpart\u001b[0m\u001b[0;34m(\u001b[0m\u001b[0msubparts_ids\u001b[0m\u001b[0;34m[\u001b[0m\u001b[0;34m\"LV_epi\"\u001b[0m\u001b[0;34m]\u001b[0m\u001b[0;34m)\u001b[0m\u001b[0;34m\u001b[0m\u001b[0m\n\u001b[1;32m     18\u001b[0m \u001b[0;34m\u001b[0m\u001b[0m\n\u001b[0;32m---> 19\u001b[0;31m \u001b[0mlv_m_endo\u001b[0m \u001b[0;34m=\u001b[0m \u001b[0mvtkplotter\u001b[0m\u001b[0;34m.\u001b[0m\u001b[0mmesh\u001b[0m\u001b[0;34m.\u001b[0m\u001b[0mMesh\u001b[0m\u001b[0;34m(\u001b[0m\u001b[0;34m[\u001b[0m\u001b[0mlv_m_endo\u001b[0m\u001b[0;34m.\u001b[0m\u001b[0mpoints\u001b[0m\u001b[0;34m,\u001b[0m \u001b[0mlv_m_endo\u001b[0m\u001b[0;34m.\u001b[0m\u001b[0mtriangles\u001b[0m\u001b[0;34m]\u001b[0m\u001b[0;34m)\u001b[0m\u001b[0;34m\u001b[0m\u001b[0m\n\u001b[0m\u001b[1;32m     20\u001b[0m \u001b[0mlv_m_epi\u001b[0m \u001b[0;34m=\u001b[0m \u001b[0mvtkplotter\u001b[0m\u001b[0;34m.\u001b[0m\u001b[0mmesh\u001b[0m\u001b[0;34m.\u001b[0m\u001b[0mMesh\u001b[0m\u001b[0;34m(\u001b[0m\u001b[0;34m[\u001b[0m\u001b[0mlv_m_epi\u001b[0m\u001b[0;34m.\u001b[0m\u001b[0mpoints\u001b[0m\u001b[0;34m,\u001b[0m \u001b[0mlv_m_epi\u001b[0m\u001b[0;34m.\u001b[0m\u001b[0mtriangles\u001b[0m\u001b[0;34m]\u001b[0m\u001b[0;34m)\u001b[0m\u001b[0;34m\u001b[0m\u001b[0m\n\u001b[1;32m     21\u001b[0m \u001b[0;34m\u001b[0m\u001b[0m\n",
      "\u001b[0;31mNameError\u001b[0m: name 'vtkplotter' is not defined"
     ]
    }
   ],
   "source": [
    "import vtkplotter \n",
    "from cardiac_mesh import CardiacMesh\n",
    "\n",
    "subparts_ids = CardiacMesh.subparts_ids\n",
    "\n",
    "CardiacMesh.subparts_ids = {\n",
    "  \"all\": None,\n",
    "  \"LV\": [1, 2],\n",
    "  \"LV_endo\": [1],\n",
    "  \"LV_epi\": [2],\n",
    "  \"RV\": [4]\n",
    "}\n",
    "\n",
    "from VTK.VTKMesh import VTKObject as Mesh\n",
    "lv_m = Mesh(filename=\"data/vtk_meshes/1000336/output.001.vtk\")\n",
    "lv_m_endo = lv_m.extractSubpart(subparts_ids[\"LV_endo\"])\n",
    "lv_m_epi = lv_m.extractSubpart(subparts_ids[\"LV_epi\"])\n",
    "\n",
    "lv_m_endo = vtkplotter.mesh.Mesh([lv_m_endo.points, lv_m_endo.triangles])\n",
    "lv_m_epi = vtkplotter.mesh.Mesh([lv_m_epi.points, lv_m_epi.triangles])\n",
    "\n",
    "pp = vtkplotter.mesh.merge([lv_m_endo, lv_m_epi])\n",
    "# vtkplotter.mesh.Mesh()"
   ]
  },
  {
   "cell_type": "code",
   "execution_count": 12,
   "metadata": {},
   "outputs": [
    {
     "data": {
      "text/plain": [
       "(Mesh)0x7f41fb4b84b0"
      ]
     },
     "execution_count": 12,
     "metadata": {},
     "output_type": "execute_result"
    }
   ],
   "source": [
    "pp.write(\"kk.vtk\")"
   ]
  },
  {
   "cell_type": "code",
   "execution_count": 44,
   "metadata": {},
   "outputs": [
    {
     "data": {
      "application/vnd.jupyter.widget-view+json": {
       "model_id": "fc584615f4f14f108c2832d291843882",
       "version_major": 2,
       "version_minor": 0
      },
      "text/plain": [
       "Output()"
      ]
     },
     "metadata": {},
     "output_type": "display_data"
    }
   ],
   "source": [
    "from matplotlib.tri import Triangulation\n",
    "import k3d\n",
    "\n",
    "import numpy as np\n",
    "\n",
    "plot = k3d.plot()\n",
    "plt_mesh = k3d.mesh(lv_m.points, lv_m.triangles)\n",
    "\n",
    "plot += plt_mesh\n",
    "plot.display()"
   ]
  },
  {
   "cell_type": "code",
   "execution_count": 47,
   "metadata": {},
   "outputs": [],
   "source": [
    "# this code is a part of matplotlib trisurf3d_demo\n",
    "n_radii = 8\n",
    "n_angles = 36\n",
    "\n",
    "radii = np.linspace(0.125, 1.0, n_radii, dtype=np.float32)\n",
    "angles = np.linspace(0, 2*np.pi, n_angles, endpoint=False, dtype=np.float32)[..., np.newaxis]\n",
    "\n",
    "x = np.append(np.float32(0), (radii*np.cos(angles)).flatten())\n",
    "y = np.append(np.float32(0), (radii*np.sin(angles)).flatten())\n",
    "\n",
    "z = np.sin(-x*y)\n",
    "indices = Triangulation(x,y).triangles.astype(np.uint32)\n",
    "\n",
    "plot = k3d.plot()\n"
   ]
  },
  {
   "cell_type": "code",
   "execution_count": 48,
   "metadata": {},
   "outputs": [
    {
     "data": {
      "application/vnd.jupyter.widget-view+json": {
       "model_id": "4a0a2494b9334610bac782add6c4ffc5",
       "version_major": 2,
       "version_minor": 0
      },
      "text/plain": [
       "Output()"
      ]
     },
     "metadata": {},
     "output_type": "display_data"
    }
   ],
   "source": [
    "plt_mesh = k3d.mesh(np.vstack([x,y,z]).T, indices,\n",
    "                   color_map = k3d.colormaps.basic_color_maps.Jet,\n",
    "                   attribute=z,\n",
    "                   color_range = [-1.1,2.01])\n",
    "plot += plt_mesh\n",
    "plot.display()"
   ]
  },
  {
   "cell_type": "code",
   "execution_count": 38,
   "metadata": {},
   "outputs": [
    {
     "name": "stdout",
     "output_type": "stream",
     "text": [
      "Plot(antialias=3, axes=['x', 'y', 'z'], axes_helper=1.0, background_color=16777215, camera=[2, -3, 0.2, 0.0, 0.0, 0.0, 0.0, 0.0, 1.0], camera_animation=[], camera_fov=60.0, fps=25.0, fps_meter=False, grid=[-1, -1, -1, 1, 1, 1], height=512, lighting=1.5, mode=u'view', object_ids=[139921363097040], screenshot_scale=2.0)\n"
     ]
    }
   ],
   "source": [
    "print(plot)"
   ]
  },
  {
   "cell_type": "code",
   "execution_count": null,
   "metadata": {},
   "outputs": [],
   "source": []
  }
 ],
 "metadata": {
  "kernelspec": {
   "display_name": "Environment (conda_coma)",
   "language": "python",
   "name": "conda_coma"
  },
  "language_info": {
   "codemirror_mode": {
    "name": "ipython",
    "version": 2
   },
   "file_extension": ".py",
   "mimetype": "text/x-python",
   "name": "python",
   "nbconvert_exporter": "python",
   "pygments_lexer": "ipython2",
   "version": "2.7.15"
  }
 },
 "nbformat": 4,
 "nbformat_minor": 2
}
