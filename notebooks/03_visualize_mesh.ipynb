{
 "cells": [
  {
   "cell_type": "code",
   "execution_count": 1,
   "metadata": {},
   "outputs": [],
   "source": [
    "# import vtkplotter\n",
    "import os; os.chdir(\"/home/ubuntu/coma/\")\n",
    "from cardiac_mesh import CardiacMesh\n",
    "from VTK.VTKMesh import VTKObject as Mesh\n",
    "import vtk\n",
    "from itkwidgets import view\n",
    "import itk\n",
    "import numpy as np\n",
    "import helpers\n",
    "from copy import deepcopy"
   ]
  },
  {
   "cell_type": "code",
   "execution_count": 2,
   "metadata": {},
   "outputs": [],
   "source": [
    "# subparts_ids = CardiacMesh.subparts_ids\n",
    "# \n",
    "# lv_m = Mesh(filename=\"data/vtk_meshes/1000336/output.001.vtk\")\n",
    "# lv_m_endo = lv_m.extractSubpart(subparts_ids[\"LV_endo\"])\n",
    "# lv_m_epi = lv_m.extractSubpart(subparts_ids[\"LV_epi\"])\n",
    "# \n",
    "# lv_m_endo = vtkplotter.mesh.Mesh([lv_m_endo.points, lv_m_endo.triangles])\n",
    "# lv_m_epi = vtkplotter.mesh.Mesh([lv_m_epi.points, lv_m_epi.triangles])\n",
    "# \n",
    "# pp = vtkplotter.mesh.merge([lv_m_endo, lv_m_epi])\n",
    "# # vtkplotter.mesh.Mesh()"
   ]
  },
  {
   "cell_type": "code",
   "execution_count": 3,
   "metadata": {},
   "outputs": [],
   "source": [
    "coma_dir = \"/MULTIX/DATA/INPUT/disk_2/coma/Cardio\"\n",
    "output_dir = \"{}/output\".format(coma_dir)\n",
    "\n",
    "file_name = \"{}/meshes/vtk_meshes/1000336/output.001.vtk\".format(coma_dir)\n",
    "# itk.meshread(file_name)\n",
    "\n",
    "reader = vtk.vtkPolyDataReader()\n",
    "reader.SetFileName(file_name)\n",
    "reader.Update()\n",
    "mesh = reader.GetOutput()\n",
    "viewer = view(geometries=mesh)\n"
   ]
  },
  {
   "cell_type": "code",
   "execution_count": 4,
   "metadata": {},
   "outputs": [],
   "source": [
    "# 1. Select model\n",
    "##   a. Read all the data for the chamber (do once)\n",
    "##   b. Read the latent space representation for each subject.\n",
    "\n",
    "# 2. Calculate E(mean shape). Is it close to mean(z) or median(z)?\n",
    "# 3. Display.\n",
    "# 4. Create widget for each of the latent variables (start with nz = 4). Need to convert from N(0,1) to real range.\n",
    "# 5. Calculate shape as D(E(mean shape) + z)\n",
    "# 6. Display\n",
    "# 7. Interpret"
   ]
  },
  {
   "cell_type": "code",
   "execution_count": 5,
   "metadata": {},
   "outputs": [],
   "source": [
    "# Select model\n",
    "import os\n",
    "import ipywidgets as widgets\n",
    "import pandas as pd"
   ]
  },
  {
   "cell_type": "code",
   "execution_count": 6,
   "metadata": {},
   "outputs": [],
   "source": [
    "run_ids = [\n",
    "    \"2020-04-24_11_03_10_723719\",\n",
    "    \"2020-04-26_07_36_30_873605\",\n",
    "    \"2020-04-24_13_19_26_631106\",\n",
    "    \"2020-04-19_10_01_33_510833\",\n",
    "    \"2020-04-30_17_29_19_775837\",\n",
    "    \"2020-04-19_03_11_19_339030\"     \n",
    "]\n",
    "\n",
    "run_params_df = pd.read_csv(\"{}/run_parameters.csv\".format(output_dir))"
   ]
  },
  {
   "cell_type": "code",
   "execution_count": 7,
   "metadata": {},
   "outputs": [
    {
     "data": {
      "application/vnd.jupyter.widget-view+json": {
       "model_id": "7798467e28354d4ca4bc227f4de92724",
       "version_major": 2,
       "version_minor": 0
      },
      "text/plain": [
       "U2VsZWN0KGRlc2NyaXB0aW9uPXUnUnVuIElEJywgaW5kZXg9MSwgb3B0aW9ucz0oJzIwMjAtMDQtMjRfMTFfMDNfMTBfNzIzNzE5JywgJzIwMjAtMDQtMjZfMDdfMzZfMzBfODczNjA1JywgJzLigKY=\n"
      ]
     },
     "metadata": {},
     "output_type": "display_data"
    }
   ],
   "source": [
    "# yaml_files = [x for x in os.listdir(coma_yml_dir) if x.endswith(\".yaml\") and x.startswith(\"config\")] \n",
    "\n",
    "w_yaml = widgets.Select(\n",
    "    options=run_ids,\n",
    "    description='Run ID',\n",
    "    disabled=False,\n",
    "    value=run_ids[1]\n",
    ")\n",
    "\n",
    "display(w_yaml)"
   ]
  },
  {
   "cell_type": "code",
   "execution_count": 60,
   "metadata": {},
   "outputs": [],
   "source": [
    "run_info = helpers.Run(w_yaml.value, output_dir)\n",
    "z_df = pd.read_csv(run_info.latent_space)"
   ]
  },
  {
   "cell_type": "code",
   "execution_count": 111,
   "metadata": {},
   "outputs": [
    {
     "data": {
      "text/plain": [
       "<matplotlib.axes._subplots.AxesSubplot at 0x7f9edd18f790>"
      ]
     },
     "execution_count": 111,
     "metadata": {},
     "output_type": "execute_result"
    },
    {
     "data": {
      "image/png": "[encoded data removed]",
      "text/plain": [
       "<Figure size 432x288 with 1 Axes>"
      ]
     },
     "metadata": {
      "needs_background": "light"
     },
     "output_type": "display_data"
    }
   ],
   "source": [
    "z_df.hist()"
   ]
  },
  {
   "cell_type": "code",
   "execution_count": null,
   "metadata": {},
   "outputs": [],
   "source": []
  },
  {
   "cell_type": "code",
   "execution_count": 9,
   "metadata": {},
   "outputs": [],
   "source": [
    "from main import generate_model\n",
    "params = deepcopy(run_info.params) # I need to deepcopy because I delete the 'seed' key\n",
    "del params['seed']"
   ]
  },
  {
   "cell_type": "code",
   "execution_count": 124,
   "metadata": {},
   "outputs": [
    {
     "data": {
      "text/plain": [
       "[16, 16, 16, 32]"
      ]
     },
     "execution_count": 124,
     "metadata": {},
     "output_type": "execute_result"
    }
   ],
   "source": [
    "params['F']"
   ]
  },
  {
   "cell_type": "code",
   "execution_count": 10,
   "metadata": {},
   "outputs": [
    {
     "name": "stdout",
     "output_type": "stream",
     "text": [
      "Loading data .. \n",
      "Vertices normalized\n",
      "Generating Transform Matrices ..\n"
     ]
    },
    {
     "name": "stderr",
     "output_type": "stream",
     "text": [
      "`rcond` parameter will change to the default of machine precision times ``max(M, N)`` where M and N are the input matrix dimensions.\n",
      "To use the future default and silence this warning we advise to pass `rcond=None`, to keep using the old, explicitly pass `rcond=-1`.\n",
      "`rcond` parameter will change to the default of machine precision times ``max(M, N)`` where M and N are the input matrix dimensions.\n",
      "To use the future default and silence this warning we advise to pass `rcond=None`, to keep using the old, explicitly pass `rcond=-1`.\n"
     ]
    },
    {
     "name": "stdout",
     "output_type": "stream",
     "text": [
      "Computing Graph Laplacians ..\n",
      "NN architecture\n"
     ]
    }
   ],
   "source": [
    "model = generate_model(params, add_hash=False)\n",
    "model.dir_name = os.path.basename(run_info.checkpoints)"
   ]
  },
  {
   "cell_type": "code",
   "execution_count": 11,
   "metadata": {},
   "outputs": [],
   "source": [
    "from scipy.spatial import procrustes as procrustes\n",
    "\n",
    "all_meshes = np.load(params['data_file'], allow_pickle=True)\n",
    "all_ids = [x.strip() for x in open(params['ids_file'])]\n",
    "# Preprocess meshes (procrustes-aligning + centering + scaling)\n",
    "meshes_aligned = np.array([ \n",
    "    procrustes(\n",
    "        all_meshes[i], \n",
    "        model.reference_mesh.points)[0] for i in range(len(all_meshes)\n",
    "    )\n",
    "])\n",
    "\n",
    "# meshes_aligned = (meshes_aligned - model.mean) / model.std"
   ]
  },
  {
   "cell_type": "code",
   "execution_count": 90,
   "metadata": {},
   "outputs": [
    {
     "name": "stdout",
     "output_type": "stream",
     "text": [
      "INFO:tensorflow:Restoring parameters from /MULTIX/DATA/INPUT/disk_2/coma/Cardio/output/checkpoints/LV__ds_4422__nz_8__reg_0.0001__lr_0.01__2020-04-26_07_36_30_873605/model-50000\n",
      "INFO:tensorflow:Restoring parameters from /MULTIX/DATA/INPUT/disk_2/coma/Cardio/output/checkpoints/LV__ds_4422__nz_8__reg_0.0001__lr_0.01__2020-04-26_07_36_30_873605/model-50000\n",
      "INFO:tensorflow:Restoring parameters from /MULTIX/DATA/INPUT/disk_2/coma/Cardio/output/checkpoints/LV__ds_4422__nz_8__reg_0.0001__lr_0.01__2020-04-26_07_36_30_873605/model-50000\n",
      "INFO:tensorflow:Restoring parameters from /MULTIX/DATA/INPUT/disk_2/coma/Cardio/output/checkpoints/LV__ds_4422__nz_8__reg_0.0001__lr_0.01__2020-04-26_07_36_30_873605/model-50000\n",
      "INFO:tensorflow:Restoring parameters from /MULTIX/DATA/INPUT/disk_2/coma/Cardio/output/checkpoints/LV__ds_4422__nz_8__reg_0.0001__lr_0.01__2020-04-26_07_36_30_873605/model-50000\n",
      "INFO:tensorflow:Restoring parameters from /MULTIX/DATA/INPUT/disk_2/coma/Cardio/output/checkpoints/LV__ds_4422__nz_8__reg_0.0001__lr_0.01__2020-04-26_07_36_30_873605/model-50000\n",
      "INFO:tensorflow:Restoring parameters from /MULTIX/DATA/INPUT/disk_2/coma/Cardio/output/checkpoints/LV__ds_4422__nz_8__reg_0.0001__lr_0.01__2020-04-26_07_36_30_873605/model-50000\n",
      "INFO:tensorflow:Restoring parameters from /MULTIX/DATA/INPUT/disk_2/coma/Cardio/output/checkpoints/LV__ds_4422__nz_8__reg_0.0001__lr_0.01__2020-04-26_07_36_30_873605/model-50000\n",
      "INFO:tensorflow:Restoring parameters from /MULTIX/DATA/INPUT/disk_2/coma/Cardio/output/checkpoints/LV__ds_4422__nz_8__reg_0.0001__lr_0.01__2020-04-26_07_36_30_873605/model-50000\n",
      "INFO:tensorflow:Restoring parameters from /MULTIX/DATA/INPUT/disk_2/coma/Cardio/output/checkpoints/LV__ds_4422__nz_8__reg_0.0001__lr_0.01__2020-04-26_07_36_30_873605/model-50000\n",
      "INFO:tensorflow:Restoring parameters from /MULTIX/DATA/INPUT/disk_2/coma/Cardio/output/checkpoints/LV__ds_4422__nz_8__reg_0.0001__lr_0.01__2020-04-26_07_36_30_873605/model-50000\n",
      "INFO:tensorflow:Restoring parameters from /MULTIX/DATA/INPUT/disk_2/coma/Cardio/output/checkpoints/LV__ds_4422__nz_8__reg_0.0001__lr_0.01__2020-04-26_07_36_30_873605/model-50000\n",
      "INFO:tensorflow:Restoring parameters from /MULTIX/DATA/INPUT/disk_2/coma/Cardio/output/checkpoints/LV__ds_4422__nz_8__reg_0.0001__lr_0.01__2020-04-26_07_36_30_873605/model-50000\n",
      "INFO:tensorflow:Restoring parameters from /MULTIX/DATA/INPUT/disk_2/coma/Cardio/output/checkpoints/LV__ds_4422__nz_8__reg_0.0001__lr_0.01__2020-04-26_07_36_30_873605/model-50000\n",
      "INFO:tensorflow:Restoring parameters from /MULTIX/DATA/INPUT/disk_2/coma/Cardio/output/checkpoints/LV__ds_4422__nz_8__reg_0.0001__lr_0.01__2020-04-26_07_36_30_873605/model-50000\n",
      "INFO:tensorflow:Restoring parameters from /MULTIX/DATA/INPUT/disk_2/coma/Cardio/output/checkpoints/LV__ds_4422__nz_8__reg_0.0001__lr_0.01__2020-04-26_07_36_30_873605/model-50000\n",
      "INFO:tensorflow:Restoring parameters from /MULTIX/DATA/INPUT/disk_2/coma/Cardio/output/checkpoints/LV__ds_4422__nz_8__reg_0.0001__lr_0.01__2020-04-26_07_36_30_873605/model-50000\n",
      "INFO:tensorflow:Restoring parameters from /MULTIX/DATA/INPUT/disk_2/coma/Cardio/output/checkpoints/LV__ds_4422__nz_8__reg_0.0001__lr_0.01__2020-04-26_07_36_30_873605/model-50000\n",
      "INFO:tensorflow:Restoring parameters from /MULTIX/DATA/INPUT/disk_2/coma/Cardio/output/checkpoints/LV__ds_4422__nz_8__reg_0.0001__lr_0.01__2020-04-26_07_36_30_873605/model-50000\n",
      "INFO:tensorflow:Restoring parameters from /MULTIX/DATA/INPUT/disk_2/coma/Cardio/output/checkpoints/LV__ds_4422__nz_8__reg_0.0001__lr_0.01__2020-04-26_07_36_30_873605/model-50000\n",
      "INFO:tensorflow:Restoring parameters from /MULTIX/DATA/INPUT/disk_2/coma/Cardio/output/checkpoints/LV__ds_4422__nz_8__reg_0.0001__lr_0.01__2020-04-26_07_36_30_873605/model-50000\n",
      "INFO:tensorflow:Restoring parameters from /MULTIX/DATA/INPUT/disk_2/coma/Cardio/output/checkpoints/LV__ds_4422__nz_8__reg_0.0001__lr_0.01__2020-04-26_07_36_30_873605/model-50000\n",
      "INFO:tensorflow:Restoring parameters from /MULTIX/DATA/INPUT/disk_2/coma/Cardio/output/checkpoints/LV__ds_4422__nz_8__reg_0.0001__lr_0.01__2020-04-26_07_36_30_873605/model-50000\n",
      "INFO:tensorflow:Restoring parameters from /MULTIX/DATA/INPUT/disk_2/coma/Cardio/output/checkpoints/LV__ds_4422__nz_8__reg_0.0001__lr_0.01__2020-04-26_07_36_30_873605/model-50000\n"
     ]
    }
   ],
   "source": [
    "z_median = z_df.median(axis=0)[1:]\n",
    "\n",
    "\n",
    "for j in range(len(z_median)):\n",
    "  for i in range(-1, 2):\n",
    "    # z = all_meshes[10]\n",
    "    dz = i * np.eye(1,len(z_median),j)[0] * z_df.std(axis=0)[1:]\n",
    "    reconstructed_mesh = model.decode(np.array([z_median + dz]))\n",
    "    np.save(\"/home/ubuntu/tmp/tmp_z{}_plus{}sd.npy\".format(str(j), str(i)), model.mean + model.std * reconstructed_mesh)"
   ]
  },
  {
   "cell_type": "code",
   "execution_count": 105,
   "metadata": {},
   "outputs": [
    {
     "data": {
      "text/plain": [
       "z0    2.164149\n",
       "z1    1.983794\n",
       "z2    2.423693\n",
       "z3    1.842730\n",
       "z4    1.805067\n",
       "z5    1.971674\n",
       "z6    1.859372\n",
       "z7    1.987806\n",
       "dtype: float64"
      ]
     },
     "execution_count": 105,
     "metadata": {},
     "output_type": "execute_result"
    }
   ],
   "source": [
    "z_df.mean(axis=0)[1:]"
   ]
  },
  {
   "cell_type": "code",
   "execution_count": 119,
   "metadata": {},
   "outputs": [
    {
     "name": "stdout",
     "output_type": "stream",
     "text": [
      "INFO:tensorflow:Restoring parameters from /MULTIX/DATA/INPUT/disk_2/coma/Cardio/output/checkpoints/LV__ds_4422__nz_8__reg_0.0001__lr_0.01__2020-04-26_07_36_30_873605/model-50000\n",
      "INFO:tensorflow:Restoring parameters from /MULTIX/DATA/INPUT/disk_2/coma/Cardio/output/checkpoints/LV__ds_4422__nz_8__reg_0.0001__lr_0.01__2020-04-26_07_36_30_873605/model-50000\n",
      "INFO:tensorflow:Restoring parameters from /MULTIX/DATA/INPUT/disk_2/coma/Cardio/output/checkpoints/LV__ds_4422__nz_8__reg_0.0001__lr_0.01__2020-04-26_07_36_30_873605/model-50000\n"
     ]
    },
    {
     "data": {
      "text/plain": [
       "array([[0.99717265, 1.0840019 , 1.3560876 , 0.9769249 , 0.9583    ,\n",
       "        1.0134382 , 1.0725229 , 1.0263215 ]], dtype=float32)"
      ]
     },
     "execution_count": 119,
     "metadata": {},
     "output_type": "execute_result"
    }
   ],
   "source": [
    "z_mean_shape = model.encode(np.array([np.random.normal(0,0,model.mean.shape)], dtype=np.float64))\n",
    "z_mean_shape_2 = model.encode(model.decode(z_mean_shape))\n",
    "z_mean_shape_2"
   ]
  },
  {
   "cell_type": "code",
   "execution_count": 122,
   "metadata": {},
   "outputs": [
    {
     "ename": "AttributeError",
     "evalue": "'dict' object has no attribute 'F'",
     "output_type": "error",
     "traceback": [
      "\u001b[0;31m\u001b[0m",
      "\u001b[0;31mAttributeError\u001b[0mTraceback (most recent call last)",
      "\u001b[0;32m<ipython-input-122-0004b552b935>\u001b[0m in \u001b[0;36m<module>\u001b[0;34m()\u001b[0m\n\u001b[0;32m----> 1\u001b[0;31m \u001b[0mrun_info\u001b[0m\u001b[0;34m.\u001b[0m\u001b[0mparams\u001b[0m\u001b[0;34m.\u001b[0m\u001b[0mF\u001b[0m\u001b[0;34m\u001b[0m\u001b[0m\n\u001b[0m",
      "\u001b[0;31mAttributeError\u001b[0m: 'dict' object has no attribute 'F'"
     ]
    }
   ],
   "source": [
    "run_info.params.F"
   ]
  },
  {
   "cell_type": "code",
   "execution_count": 113,
   "metadata": {},
   "outputs": [
    {
     "name": "stdout",
     "output_type": "stream",
     "text": [
      "INFO:tensorflow:Restoring parameters from /MULTIX/DATA/INPUT/disk_2/coma/Cardio/output/checkpoints/LV__ds_4422__nz_8__reg_0.0001__lr_0.01__2020-04-26_07_36_30_873605/model-50000\n"
     ]
    }
   ],
   "source": [
    "np.save(\"/home/ubuntu/tmp/tmp.vtk\", model.decode(z_mean_shape))"
   ]
  },
  {
   "cell_type": "code",
   "execution_count": 39,
   "metadata": {},
   "outputs": [],
   "source": [
    "from vtk.util.numpy_support import numpy_to_vtk, numpy_to_vtkIdTypeArray\n",
    "def createPolyData(verts, tris):\n",
    "    \"\"\"Create and return a vtkPolyData.\n",
    "    \n",
    "    verts is a (N, 3) numpy array of float vertices\n",
    "\n",
    "    tris is a (N, 1) numpy array of int64 representing the triangles\n",
    "    (cells) we create from the verts above.  The array contains \n",
    "    groups of 4 integers of the form: 3 A B C\n",
    "    Where 3 is the number of points in the cell and A B C are indexes\n",
    "    into the verts array.\n",
    "    \"\"\"\n",
    "    \n",
    "    # save, we share memory with the numpy arrays\n",
    "    # so they can't get deleted\n",
    "    #self.verts = verts        \n",
    "    # self.tris = tris\n",
    "    \n",
    "    poly = vtk.vtkPolyData()\n",
    "    \n",
    "    points = vtk.vtkPoints()\n",
    "    points.SetData(numpy_to_vtk(verts))        \n",
    "    poly.SetPoints(points)\n",
    "    \n",
    "    cells = vtk.vtkCellArray()\n",
    "    cells.SetCells(len(tris), numpy_to_vtkIdTypeArray(tris))        \n",
    "    #poly.SetCells(cells)\n",
    "    poly.SetPolys(cells)\n",
    "    \n",
    "    return poly"
   ]
  },
  {
   "cell_type": "code",
   "execution_count": 40,
   "metadata": {},
   "outputs": [],
   "source": [
    "dd = createPolyData(model.mean, np.array(model.reference_mesh.triangles))"
   ]
  },
  {
   "cell_type": "code",
   "execution_count": 41,
   "metadata": {},
   "outputs": [],
   "source": [
    "vtk_filename = \"/home/ubuntu/tmp/tmp.vtk\"\n",
    "vpw = vtk.vtkPolyDataWriter()\n",
    "vpw.SetFileName(vtk_filename)\n",
    "vpw.SetInputData(dd)"
   ]
  },
  {
   "cell_type": "code",
   "execution_count": 16,
   "metadata": {},
   "outputs": [],
   "source": [
    "# kk = Mesh(vtk_filename)"
   ]
  },
  {
   "cell_type": "code",
   "execution_count": null,
   "metadata": {},
   "outputs": [],
   "source": []
  }
 ],
 "metadata": {
  "kernelspec": {
   "display_name": "Environment (conda_coma)",
   "language": "python",
   "name": "conda_coma"
  },
  "language_info": {
   "codemirror_mode": {
    "name": "ipython",
    "version": 2
   },
   "file_extension": ".py",
   "mimetype": "text/x-python",
   "name": "python",
   "nbconvert_exporter": "python",
   "pygments_lexer": "ipython2",
   "version": "2.7.15"
  }
 },
 "nbformat": 4,
 "nbformat_minor": 2
}
